{
 "cells": [
  {
   "cell_type": "code",
   "execution_count": 2,
   "metadata": {
    "_cell_guid": "b1076dfc-b9ad-4769-8c92-a6c4dae69d19",
    "_uuid": "8f2839f25d086af736a60e9eeb907d3b93b6e0e5"
   },
   "outputs": [],
   "source": [
    "# This Python 3 environment comes with many helpful analytics libraries installed\n",
    "# It is defined by the kaggle/python Docker image: https://github.com/kaggle/docker-python\n",
    "# For example, here's several helpful packages to load\n",
    "\n",
    "import numpy as np # linear algebra\n",
    "import pandas as pd # data processing, CSV file I/O (e.g. pd.read_csv)\n",
    "\n",
    "# Input data files are available in the read-only \"../input/\" directory\n",
    "# For example, running this (by clicking run or pressing Shift+Enter) will list all files under the input directory\n",
    "\n",
    "import os\n",
    "for dirname, _, filenames in os.walk('/kaggle/input'):\n",
    "    for filename in filenames:\n",
    "        print(os.path.join(dirname, filename))\n",
    "\n",
    "# You can write up to 5GB to the current directory (/kaggle/working/) that gets preserved as output when you create a version using \"Save & Run All\" \n",
    "# You can also write temporary files to /kaggle/temp/, but they won't be saved outside of the current session"
   ]
  },
  {
   "cell_type": "code",
   "execution_count": 3,
   "metadata": {
    "_cell_guid": "79c7e3d0-c299-4dcb-8224-4455121ee9b0",
    "_uuid": "d629ff2d2480ee46fbb7e2d37f6b5fab8052498a"
   },
   "outputs": [],
   "source": [
    "import numpy as np\n",
    "import pandas as pd\n",
    "import matplotlib.pyplot as plt\n",
    "import seaborn as sns\n",
    "%matplotlib inline\n",
    "pd.set_option('display.max_rows', 200)\n",
    "pd.set_option('display.max_columns', 200)\n",
    "plt.style.use('ggplot')\n",
    "\n",
    "# Import KNeighborsClassifier from sklearn.neighbors\n",
    "from sklearn.neighbors import KNeighborsClassifier\n",
    "\n",
    "# Import DecisionTreeClassifier from sklearn.tree\n",
    "from sklearn.tree import DecisionTreeClassifier\n",
    "\n",
    "# Import RandomForestClassifier\n",
    "from sklearn.ensemble import RandomForestClassifier\n",
    "\n",
    "# Import LogisticRegression\n",
    "from sklearn.linear_model import LogisticRegression\n",
    "\n",
    "from sklearn.model_selection import train_test_split\n",
    "from sklearn.model_selection import GridSearchCV\n",
    "from sklearn.feature_selection import SelectFromModel\n",
    "from sklearn.metrics import classification_report\n",
    "from sklearn.metrics import confusion_matrix\n",
    "from sklearn.metrics import accuracy_score\n",
    "from sklearn.metrics import roc_curve, auc"
   ]
  },
  {
   "cell_type": "code",
   "execution_count": 6,
   "metadata": {},
   "outputs": [
    {
     "name": "stdout",
     "output_type": "stream",
     "text": [
      "<class 'pandas.core.frame.DataFrame'>\n",
      "RangeIndex: 16517 entries, 0 to 16516\n",
      "Data columns (total 49 columns):\n",
      " #   Column                 Non-Null Count  Dtype  \n",
      "---  ------                 --------------  -----  \n",
      " 0   ID                     16517 non-null  object \n",
      " 1   Source                 16517 non-null  object \n",
      " 2   TMC                    16517 non-null  float64\n",
      " 3   Severity               16517 non-null  int64  \n",
      " 4   Start_Time             16517 non-null  object \n",
      " 5   End_Time               16517 non-null  object \n",
      " 6   Start_Lat              16517 non-null  float64\n",
      " 7   Start_Lng              16517 non-null  float64\n",
      " 8   End_Lat                16517 non-null  object \n",
      " 9   End_Lng                16517 non-null  object \n",
      " 10  Distance(mi)           16517 non-null  float64\n",
      " 11  Description            16517 non-null  object \n",
      " 12  Number                 16517 non-null  object \n",
      " 13  Street                 16517 non-null  object \n",
      " 14  Side                   16517 non-null  object \n",
      " 15  City                   16517 non-null  object \n",
      " 16  County                 16517 non-null  object \n",
      " 17  State                  16517 non-null  object \n",
      " 18  Zipcode                16517 non-null  object \n",
      " 19  Country                16517 non-null  object \n",
      " 20  Timezone               16517 non-null  object \n",
      " 21  Airport_Code           16517 non-null  object \n",
      " 22  Weather_Timestamp      16517 non-null  object \n",
      " 23  Temperature(F)         16517 non-null  object \n",
      " 24  Wind_Chill(F)          16517 non-null  object \n",
      " 25  Humidity(%)            16517 non-null  object \n",
      " 26  Pressure(in)           16517 non-null  object \n",
      " 27  Visibility(mi)         16517 non-null  object \n",
      " 28  Wind_Direction         16517 non-null  object \n",
      " 29  Wind_Speed(mph)        16517 non-null  object \n",
      " 30  Precipitation(in)      16517 non-null  object \n",
      " 31  Weather_Condition      16517 non-null  object \n",
      " 32  Amenity                16517 non-null  bool   \n",
      " 33  Bump                   16517 non-null  bool   \n",
      " 34  Crossing               16517 non-null  bool   \n",
      " 35  Give_Way               16517 non-null  bool   \n",
      " 36  Junction               16517 non-null  bool   \n",
      " 37  No_Exit                16517 non-null  bool   \n",
      " 38  Railway                16517 non-null  object \n",
      " 39  Roundabout             16517 non-null  object \n",
      " 40  Station                16517 non-null  object \n",
      " 41  Stop                   16517 non-null  object \n",
      " 42  Traffic_Calming        16517 non-null  object \n",
      " 43  Traffic_Signal         16517 non-null  object \n",
      " 44  Turning_Loop           16517 non-null  object \n",
      " 45  Sunrise_Sunset         16517 non-null  object \n",
      " 46  Civil_Twilight         16517 non-null  object \n",
      " 47  Nautical_Twilight      16517 non-null  object \n",
      " 48  Astronomical_Twilight  16517 non-null  object \n",
      "dtypes: bool(6), float64(4), int64(1), object(38)\n",
      "memory usage: 5.5+ MB\n"
     ]
    },
    {
     "name": "stderr",
     "output_type": "stream",
     "text": [
      "/home/jupyterlab/conda/envs/python/lib/python3.6/site-packages/IPython/core/interactiveshell.py:3072: DtypeWarning: Columns (23,25,26,27,38,39,40,41,42,43,44) have mixed types.Specify dtype option on import or set low_memory=False.\n",
      "  interactivity=interactivity, compiler=compiler, result=result)\n"
     ]
    }
   ],
   "source": [
    "df = pd.read_csv('data/US_Accidents_June20.csv', keep_default_na=False)\n",
    "df.info()"
   ]
  },
  {
   "cell_type": "code",
   "execution_count": 7,
   "metadata": {},
   "outputs": [
    {
     "name": "stdout",
     "output_type": "stream",
     "text": [
      "<class 'pandas.core.frame.DataFrame'>\n",
      "RangeIndex: 16517 entries, 0 to 16516\n",
      "Data columns (total 55 columns):\n",
      " #   Column                 Non-Null Count  Dtype         \n",
      "---  ------                 --------------  -----         \n",
      " 0   ID                     16517 non-null  object        \n",
      " 1   Source                 16517 non-null  object        \n",
      " 2   TMC                    16517 non-null  float64       \n",
      " 3   Severity               16517 non-null  int64         \n",
      " 4   Start_Time             16517 non-null  datetime64[ns]\n",
      " 5   End_Time               16517 non-null  datetime64[ns]\n",
      " 6   Start_Lat              16517 non-null  float64       \n",
      " 7   Start_Lng              16517 non-null  float64       \n",
      " 8   End_Lat                16517 non-null  object        \n",
      " 9   End_Lng                16517 non-null  object        \n",
      " 10  Distance(mi)           16517 non-null  float64       \n",
      " 11  Description            16517 non-null  object        \n",
      " 12  Number                 16517 non-null  object        \n",
      " 13  Street                 16517 non-null  object        \n",
      " 14  Side                   16517 non-null  object        \n",
      " 15  City                   16517 non-null  object        \n",
      " 16  County                 16517 non-null  object        \n",
      " 17  State                  16517 non-null  object        \n",
      " 18  Zipcode                16517 non-null  object        \n",
      " 19  Country                16517 non-null  object        \n",
      " 20  Timezone               16517 non-null  object        \n",
      " 21  Airport_Code           16517 non-null  object        \n",
      " 22  Weather_Timestamp      16517 non-null  object        \n",
      " 23  Temperature(F)         16517 non-null  object        \n",
      " 24  Wind_Chill(F)          16517 non-null  object        \n",
      " 25  Humidity(%)            16517 non-null  object        \n",
      " 26  Pressure(in)           16517 non-null  object        \n",
      " 27  Visibility(mi)         16517 non-null  object        \n",
      " 28  Wind_Direction         16517 non-null  object        \n",
      " 29  Wind_Speed(mph)        16517 non-null  object        \n",
      " 30  Precipitation(in)      16517 non-null  object        \n",
      " 31  Weather_Condition      16517 non-null  object        \n",
      " 32  Amenity                16517 non-null  bool          \n",
      " 33  Bump                   16517 non-null  bool          \n",
      " 34  Crossing               16517 non-null  bool          \n",
      " 35  Give_Way               16517 non-null  bool          \n",
      " 36  Junction               16517 non-null  bool          \n",
      " 37  No_Exit                16517 non-null  bool          \n",
      " 38  Railway                16517 non-null  object        \n",
      " 39  Roundabout             16517 non-null  object        \n",
      " 40  Station                16517 non-null  object        \n",
      " 41  Stop                   16517 non-null  object        \n",
      " 42  Traffic_Calming        16517 non-null  object        \n",
      " 43  Traffic_Signal         16517 non-null  object        \n",
      " 44  Turning_Loop           16517 non-null  object        \n",
      " 45  Sunrise_Sunset         16517 non-null  object        \n",
      " 46  Civil_Twilight         16517 non-null  object        \n",
      " 47  Nautical_Twilight      16517 non-null  object        \n",
      " 48  Astronomical_Twilight  16517 non-null  object        \n",
      " 49  Year                   16517 non-null  int64         \n",
      " 50  Month                  16517 non-null  object        \n",
      " 51  Day                    16517 non-null  int64         \n",
      " 52  Hour                   16517 non-null  int64         \n",
      " 53  Weekday                16517 non-null  object        \n",
      " 54  Time_Duration(min)     16517 non-null  float64       \n",
      "dtypes: bool(6), datetime64[ns](2), float64(5), int64(4), object(38)\n",
      "memory usage: 6.3+ MB\n"
     ]
    }
   ],
   "source": [
    "# Convert Start_Time and End_Time to datetypes\n",
    "df['Start_Time'] = pd.to_datetime(df['Start_Time'], errors='coerce')\n",
    "df['End_Time'] = pd.to_datetime(df['End_Time'], errors='coerce')\n",
    "\n",
    "# Extract year, month, day, hour and weekday\n",
    "df['Year']=df['Start_Time'].dt.year\n",
    "df['Month']=df['Start_Time'].dt.strftime('%b')\n",
    "df['Day']=df['Start_Time'].dt.day\n",
    "df['Hour']=df['Start_Time'].dt.hour\n",
    "df['Weekday']=df['Start_Time'].dt.strftime('%a')\n",
    "\n",
    "# Extract the amount of time in the unit of minutes for each accident, round to the nearest integer\n",
    "td='Time_Duration(min)'\n",
    "df[td]=round((df['End_Time']-df['Start_Time'])/np.timedelta64(1,'m'))\n",
    "df.info()"
   ]
  },
  {
   "cell_type": "code",
   "execution_count": 8,
   "metadata": {},
   "outputs": [
    {
     "data": {
      "text/plain": [
       "Series([], Name: Time_Duration(min), dtype: float64)"
      ]
     },
     "execution_count": 8,
     "metadata": {},
     "output_type": "execute_result"
    }
   ],
   "source": [
    "df[td][df[td]<=0]"
   ]
  },
  {
   "cell_type": "code",
   "execution_count": 9,
   "metadata": {},
   "outputs": [
    {
     "name": "stdout",
     "output_type": "stream",
     "text": [
      "<class 'pandas.core.frame.DataFrame'>\n",
      "Int64Index: 16517 entries, 0 to 16516\n",
      "Data columns (total 55 columns):\n",
      " #   Column                 Non-Null Count  Dtype         \n",
      "---  ------                 --------------  -----         \n",
      " 0   ID                     16517 non-null  object        \n",
      " 1   Source                 16517 non-null  object        \n",
      " 2   TMC                    16517 non-null  float64       \n",
      " 3   Severity               16517 non-null  float64       \n",
      " 4   Start_Time             16517 non-null  datetime64[ns]\n",
      " 5   End_Time               16517 non-null  datetime64[ns]\n",
      " 6   Start_Lat              16517 non-null  float64       \n",
      " 7   Start_Lng              16517 non-null  float64       \n",
      " 8   End_Lat                16517 non-null  object        \n",
      " 9   End_Lng                16517 non-null  object        \n",
      " 10  Distance(mi)           16517 non-null  float64       \n",
      " 11  Description            16517 non-null  object        \n",
      " 12  Number                 16517 non-null  object        \n",
      " 13  Street                 16517 non-null  object        \n",
      " 14  Side                   16517 non-null  object        \n",
      " 15  City                   16517 non-null  object        \n",
      " 16  County                 16517 non-null  object        \n",
      " 17  State                  16517 non-null  object        \n",
      " 18  Zipcode                16517 non-null  object        \n",
      " 19  Country                16517 non-null  object        \n",
      " 20  Timezone               16517 non-null  object        \n",
      " 21  Airport_Code           16517 non-null  object        \n",
      " 22  Weather_Timestamp      16517 non-null  object        \n",
      " 23  Temperature(F)         16517 non-null  object        \n",
      " 24  Wind_Chill(F)          16517 non-null  object        \n",
      " 25  Humidity(%)            16517 non-null  object        \n",
      " 26  Pressure(in)           16517 non-null  object        \n",
      " 27  Visibility(mi)         16517 non-null  object        \n",
      " 28  Wind_Direction         16517 non-null  object        \n",
      " 29  Wind_Speed(mph)        16517 non-null  object        \n",
      " 30  Precipitation(in)      16517 non-null  object        \n",
      " 31  Weather_Condition      16517 non-null  object        \n",
      " 32  Amenity                16517 non-null  float64       \n",
      " 33  Bump                   16517 non-null  float64       \n",
      " 34  Crossing               16517 non-null  float64       \n",
      " 35  Give_Way               16517 non-null  float64       \n",
      " 36  Junction               16517 non-null  float64       \n",
      " 37  No_Exit                16517 non-null  float64       \n",
      " 38  Railway                16517 non-null  object        \n",
      " 39  Roundabout             16517 non-null  object        \n",
      " 40  Station                16517 non-null  object        \n",
      " 41  Stop                   16517 non-null  object        \n",
      " 42  Traffic_Calming        16517 non-null  object        \n",
      " 43  Traffic_Signal         16517 non-null  object        \n",
      " 44  Turning_Loop           16517 non-null  object        \n",
      " 45  Sunrise_Sunset         16517 non-null  object        \n",
      " 46  Civil_Twilight         16517 non-null  object        \n",
      " 47  Nautical_Twilight      16517 non-null  object        \n",
      " 48  Astronomical_Twilight  16517 non-null  object        \n",
      " 49  Year                   16517 non-null  float64       \n",
      " 50  Month                  16517 non-null  object        \n",
      " 51  Day                    16517 non-null  float64       \n",
      " 52  Hour                   16517 non-null  float64       \n",
      " 53  Weekday                16517 non-null  object        \n",
      " 54  Time_Duration(min)     16517 non-null  float64       \n",
      "dtypes: datetime64[ns](2), float64(15), object(38)\n",
      "memory usage: 7.1+ MB\n"
     ]
    }
   ],
   "source": [
    "neg_outliers=df[td]<=0\n",
    "\n",
    "# Set outliers to NAN\n",
    "df[neg_outliers] = np.nan\n",
    "\n",
    "# Drop rows with negative td\n",
    "df.dropna(subset=[td],axis=0,inplace=True)\n",
    "df.info()"
   ]
  },
  {
   "cell_type": "code",
   "execution_count": 10,
   "metadata": {},
   "outputs": [
    {
     "data": {
      "text/plain": [
       "Series([], Name: Time_Duration(min), dtype: float64)"
      ]
     },
     "execution_count": 10,
     "metadata": {},
     "output_type": "execute_result"
    }
   ],
   "source": [
    "# Double check to make sure no more negative td\n",
    "df[td][df[td]<=0]\n"
   ]
  },
  {
   "cell_type": "code",
   "execution_count": 11,
   "metadata": {},
   "outputs": [
    {
     "name": "stdout",
     "output_type": "stream",
     "text": [
      "<class 'pandas.core.frame.DataFrame'>\n",
      "Int64Index: 16517 entries, 0 to 16516\n",
      "Data columns (total 55 columns):\n",
      " #   Column                 Non-Null Count  Dtype         \n",
      "---  ------                 --------------  -----         \n",
      " 0   ID                     16334 non-null  object        \n",
      " 1   Source                 16334 non-null  object        \n",
      " 2   TMC                    16334 non-null  float64       \n",
      " 3   Severity               16334 non-null  float64       \n",
      " 4   Start_Time             16334 non-null  datetime64[ns]\n",
      " 5   End_Time               16334 non-null  datetime64[ns]\n",
      " 6   Start_Lat              16334 non-null  float64       \n",
      " 7   Start_Lng              16334 non-null  float64       \n",
      " 8   End_Lat                16334 non-null  object        \n",
      " 9   End_Lng                16334 non-null  object        \n",
      " 10  Distance(mi)           16334 non-null  float64       \n",
      " 11  Description            16334 non-null  object        \n",
      " 12  Number                 16334 non-null  object        \n",
      " 13  Street                 16334 non-null  object        \n",
      " 14  Side                   16334 non-null  object        \n",
      " 15  City                   16334 non-null  object        \n",
      " 16  County                 16334 non-null  object        \n",
      " 17  State                  16334 non-null  object        \n",
      " 18  Zipcode                16334 non-null  object        \n",
      " 19  Country                16334 non-null  object        \n",
      " 20  Timezone               16334 non-null  object        \n",
      " 21  Airport_Code           16334 non-null  object        \n",
      " 22  Weather_Timestamp      16334 non-null  object        \n",
      " 23  Temperature(F)         16334 non-null  object        \n",
      " 24  Wind_Chill(F)          16334 non-null  object        \n",
      " 25  Humidity(%)            16334 non-null  object        \n",
      " 26  Pressure(in)           16334 non-null  object        \n",
      " 27  Visibility(mi)         16334 non-null  object        \n",
      " 28  Wind_Direction         16334 non-null  object        \n",
      " 29  Wind_Speed(mph)        16334 non-null  object        \n",
      " 30  Precipitation(in)      16334 non-null  object        \n",
      " 31  Weather_Condition      16334 non-null  object        \n",
      " 32  Amenity                16334 non-null  float64       \n",
      " 33  Bump                   16334 non-null  float64       \n",
      " 34  Crossing               16334 non-null  float64       \n",
      " 35  Give_Way               16334 non-null  float64       \n",
      " 36  Junction               16334 non-null  float64       \n",
      " 37  No_Exit                16334 non-null  float64       \n",
      " 38  Railway                16334 non-null  object        \n",
      " 39  Roundabout             16334 non-null  object        \n",
      " 40  Station                16334 non-null  object        \n",
      " 41  Stop                   16334 non-null  object        \n",
      " 42  Traffic_Calming        16334 non-null  object        \n",
      " 43  Traffic_Signal         16334 non-null  object        \n",
      " 44  Turning_Loop           16334 non-null  object        \n",
      " 45  Sunrise_Sunset         16334 non-null  object        \n",
      " 46  Civil_Twilight         16334 non-null  object        \n",
      " 47  Nautical_Twilight      16334 non-null  object        \n",
      " 48  Astronomical_Twilight  16334 non-null  object        \n",
      " 49  Year                   16334 non-null  float64       \n",
      " 50  Month                  16334 non-null  object        \n",
      " 51  Day                    16334 non-null  float64       \n",
      " 52  Hour                   16334 non-null  float64       \n",
      " 53  Weekday                16334 non-null  object        \n",
      " 54  Time_Duration(min)     16517 non-null  float64       \n",
      "dtypes: datetime64[ns](2), float64(15), object(38)\n",
      "memory usage: 7.1+ MB\n"
     ]
    }
   ],
   "source": [
    "# Remove outliers for Time_Duration(min): n * standard_deviation (n=3), backfill with median\n",
    "\n",
    "n=3\n",
    "\n",
    "median = df[td].median()\n",
    "std = df[td].std()\n",
    "outliers = (df[td] - median).abs() > std*n\n",
    "\n",
    "# Set outliers to NAN\n",
    "df[outliers] = np.nan\n",
    "\n",
    "# Fill NAN with median\n",
    "df[td].fillna(median, inplace=True)\n",
    "df.info()"
   ]
  },
  {
   "cell_type": "code",
   "execution_count": 12,
   "metadata": {},
   "outputs": [
    {
     "name": "stdout",
     "output_type": "stream",
     "text": [
      "Max time to clear an accident: 112.0 minutes or 2 hours or 0 days; Min to clear an accident td: 10.0 minutes.\n"
     ]
    }
   ],
   "source": [
    "# Print time_duration information\n",
    "print('Max time to clear an accident: {} minutes or {} hours or {} days; Min to clear an accident td: {} minutes.'.format(df[td].max(),round(df[td].max()/60), round(df[td].max()/60/24), df[td].min()))"
   ]
  },
  {
   "cell_type": "code",
   "execution_count": 13,
   "metadata": {},
   "outputs": [],
   "source": [
    "feature_lst=['Source','TMC','Severity','Start_Lng','Start_Lat','Distance(mi)','Side','City','County','State','Timezone','Temperature(F)','Humidity(%)','Pressure(in)', 'Visibility(mi)', 'Wind_Direction','Weather_Condition','Amenity','Bump','Crossing','Give_Way','Junction','No_Exit','Railway','Roundabout','Station','Stop','Traffic_Calming','Traffic_Signal','Turning_Loop','Sunrise_Sunset','Hour','Weekday', 'Time_Duration(min)']"
   ]
  },
  {
   "cell_type": "code",
   "execution_count": 14,
   "metadata": {},
   "outputs": [
    {
     "name": "stdout",
     "output_type": "stream",
     "text": [
      "<class 'pandas.core.frame.DataFrame'>\n",
      "Int64Index: 16517 entries, 0 to 16516\n",
      "Data columns (total 34 columns):\n",
      " #   Column              Non-Null Count  Dtype  \n",
      "---  ------              --------------  -----  \n",
      " 0   Source              16334 non-null  object \n",
      " 1   TMC                 16334 non-null  float64\n",
      " 2   Severity            16334 non-null  float64\n",
      " 3   Start_Lng           16334 non-null  float64\n",
      " 4   Start_Lat           16334 non-null  float64\n",
      " 5   Distance(mi)        16334 non-null  float64\n",
      " 6   Side                16334 non-null  object \n",
      " 7   City                16334 non-null  object \n",
      " 8   County              16334 non-null  object \n",
      " 9   State               16334 non-null  object \n",
      " 10  Timezone            16334 non-null  object \n",
      " 11  Temperature(F)      16334 non-null  object \n",
      " 12  Humidity(%)         16334 non-null  object \n",
      " 13  Pressure(in)        16334 non-null  object \n",
      " 14  Visibility(mi)      16334 non-null  object \n",
      " 15  Wind_Direction      16334 non-null  object \n",
      " 16  Weather_Condition   16334 non-null  object \n",
      " 17  Amenity             16334 non-null  float64\n",
      " 18  Bump                16334 non-null  float64\n",
      " 19  Crossing            16334 non-null  float64\n",
      " 20  Give_Way            16334 non-null  float64\n",
      " 21  Junction            16334 non-null  float64\n",
      " 22  No_Exit             16334 non-null  float64\n",
      " 23  Railway             16334 non-null  object \n",
      " 24  Roundabout          16334 non-null  object \n",
      " 25  Station             16334 non-null  object \n",
      " 26  Stop                16334 non-null  object \n",
      " 27  Traffic_Calming     16334 non-null  object \n",
      " 28  Traffic_Signal      16334 non-null  object \n",
      " 29  Turning_Loop        16334 non-null  object \n",
      " 30  Sunrise_Sunset      16334 non-null  object \n",
      " 31  Hour                16334 non-null  float64\n",
      " 32  Weekday             16334 non-null  object \n",
      " 33  Time_Duration(min)  16517 non-null  float64\n",
      "dtypes: float64(13), object(21)\n",
      "memory usage: 4.4+ MB\n"
     ]
    }
   ],
   "source": [
    "df_sel=df[feature_lst].copy()\n",
    "df_sel.info()"
   ]
  },
  {
   "cell_type": "code",
   "execution_count": 15,
   "metadata": {},
   "outputs": [
    {
     "data": {
      "text/plain": [
       "Source                0.011079\n",
       "TMC                   0.011079\n",
       "Severity              0.011079\n",
       "Start_Lng             0.011079\n",
       "Start_Lat             0.011079\n",
       "Distance(mi)          0.011079\n",
       "Side                  0.011079\n",
       "City                  0.011079\n",
       "County                0.011079\n",
       "State                 0.011079\n",
       "Timezone              0.011079\n",
       "Temperature(F)        0.011079\n",
       "Humidity(%)           0.011079\n",
       "Pressure(in)          0.011079\n",
       "Visibility(mi)        0.011079\n",
       "Wind_Direction        0.011079\n",
       "Weather_Condition     0.011079\n",
       "Amenity               0.011079\n",
       "Bump                  0.011079\n",
       "Crossing              0.011079\n",
       "Give_Way              0.011079\n",
       "Junction              0.011079\n",
       "No_Exit               0.011079\n",
       "Railway               0.011079\n",
       "Roundabout            0.011079\n",
       "Station               0.011079\n",
       "Stop                  0.011079\n",
       "Traffic_Calming       0.011079\n",
       "Traffic_Signal        0.011079\n",
       "Turning_Loop          0.011079\n",
       "Sunrise_Sunset        0.011079\n",
       "Hour                  0.011079\n",
       "Weekday               0.011079\n",
       "Time_Duration(min)    0.000000\n",
       "dtype: float64"
      ]
     },
     "execution_count": 15,
     "metadata": {},
     "output_type": "execute_result"
    }
   ],
   "source": [
    "df_sel.isnull().mean()"
   ]
  },
  {
   "cell_type": "code",
   "execution_count": 16,
   "metadata": {},
   "outputs": [
    {
     "data": {
      "text/plain": [
       "(16334, 34)"
      ]
     },
     "execution_count": 16,
     "metadata": {},
     "output_type": "execute_result"
    }
   ],
   "source": [
    "df_sel.dropna(subset=df_sel.columns[df_sel.isnull().mean()!=0], how='any', axis=0, inplace=True)\n",
    "df_sel.shape"
   ]
  },
  {
   "cell_type": "code",
   "execution_count": 17,
   "metadata": {},
   "outputs": [
    {
     "name": "stdout",
     "output_type": "stream",
     "text": [
      "<class 'pandas.core.frame.DataFrame'>\n",
      "Int64Index: 15667 entries, 728 to 16516\n",
      "Data columns (total 33 columns):\n",
      " #   Column              Non-Null Count  Dtype  \n",
      "---  ------              --------------  -----  \n",
      " 0   Source              15667 non-null  object \n",
      " 1   TMC                 15667 non-null  float64\n",
      " 2   Severity            15667 non-null  float64\n",
      " 3   Start_Lng           15667 non-null  float64\n",
      " 4   Start_Lat           15667 non-null  float64\n",
      " 5   Distance(mi)        15667 non-null  float64\n",
      " 6   Side                15667 non-null  object \n",
      " 7   City                15667 non-null  object \n",
      " 8   County              15667 non-null  object \n",
      " 9   Timezone            15667 non-null  object \n",
      " 10  Temperature(F)      15667 non-null  object \n",
      " 11  Humidity(%)         15667 non-null  object \n",
      " 12  Pressure(in)        15667 non-null  object \n",
      " 13  Visibility(mi)      15667 non-null  object \n",
      " 14  Wind_Direction      15667 non-null  object \n",
      " 15  Weather_Condition   15667 non-null  object \n",
      " 16  Amenity             15667 non-null  float64\n",
      " 17  Bump                15667 non-null  float64\n",
      " 18  Crossing            15667 non-null  float64\n",
      " 19  Give_Way            15667 non-null  float64\n",
      " 20  Junction            15667 non-null  float64\n",
      " 21  No_Exit             15667 non-null  float64\n",
      " 22  Railway             15667 non-null  object \n",
      " 23  Roundabout          15667 non-null  object \n",
      " 24  Station             15667 non-null  object \n",
      " 25  Stop                15667 non-null  object \n",
      " 26  Traffic_Calming     15667 non-null  object \n",
      " 27  Traffic_Signal      15667 non-null  object \n",
      " 28  Turning_Loop        15667 non-null  object \n",
      " 29  Sunrise_Sunset      15667 non-null  object \n",
      " 30  Hour                15667 non-null  float64\n",
      " 31  Weekday             15667 non-null  object \n",
      " 32  Time_Duration(min)  15667 non-null  float64\n",
      "dtypes: float64(13), object(20)\n",
      "memory usage: 4.1+ MB\n"
     ]
    },
    {
     "name": "stderr",
     "output_type": "stream",
     "text": [
      "/home/jupyterlab/conda/envs/python/lib/python3.6/site-packages/pandas/core/frame.py:3997: SettingWithCopyWarning: \n",
      "A value is trying to be set on a copy of a slice from a DataFrame\n",
      "\n",
      "See the caveats in the documentation: https://pandas.pydata.org/pandas-docs/stable/user_guide/indexing.html#returning-a-view-versus-a-copy\n",
      "  errors=errors,\n"
     ]
    }
   ],
   "source": [
    "# Set state\n",
    "state='CA'\n",
    "\n",
    "# Select the state of Pennsylvania\n",
    "df_state=df_sel.loc[df_sel.State==state]\n",
    "df_state.drop('State',axis=1, inplace=True)\n",
    "df_state.info()"
   ]
  },
  {
   "cell_type": "code",
   "execution_count": 18,
   "metadata": {},
   "outputs": [
    {
     "data": {
      "image/png": "[encoded data removed]",
      "text/plain": [
       "<Figure size 432x288 with 1 Axes>"
      ]
     },
     "metadata": {},
     "output_type": "display_data"
    }
   ],
   "source": [
    "sns.scatterplot(x='Start_Lng', y='Start_Lat', data=df_state, hue='County', legend=False, s=20)\n",
    "plt.show()\n"
   ]
  },
  {
   "cell_type": "code",
   "execution_count": 19,
   "metadata": {},
   "outputs": [],
   "source": [
    "df_state_dummy = pd.get_dummies(df_state,drop_first=True)"
   ]
  },
  {
   "cell_type": "code",
   "execution_count": 20,
   "metadata": {},
   "outputs": [],
   "source": [
    "df=df_state_dummy\n",
    "\n",
    "\n",
    "# Set the target for the prediction\n",
    "target='Severity'\n",
    "\n",
    "\n",
    "\n",
    "# Create arrays for the features and the response variable\n",
    "\n",
    "# set X and y\n",
    "y = df[target]\n",
    "X = df.drop(target, axis=1)\n",
    "\n",
    "# Split the data set into training and testing data sets\n",
    "X_train, X_test, y_train, y_test = train_test_split(X, y, test_size=0.2, random_state=21, stratify=y)"
   ]
  },
  {
   "cell_type": "code",
   "execution_count": 21,
   "metadata": {},
   "outputs": [],
   "source": [
    "# List of classification algorithms\n",
    "algo_lst=['Logistic Regression',' K-Nearest Neighbors','Decision Trees','Random Forest']\n",
    "\n",
    "# Initialize an empty list for the accuracy for each algorithm\n",
    "accuracy_lst=[]"
   ]
  },
  {
   "cell_type": "code",
   "execution_count": 22,
   "metadata": {},
   "outputs": [
    {
     "name": "stderr",
     "output_type": "stream",
     "text": [
      "/home/jupyterlab/conda/envs/python/lib/python3.6/site-packages/sklearn/linear_model/logistic.py:433: FutureWarning: Default solver will be changed to 'lbfgs' in 0.22. Specify a solver to silence this warning.\n",
      "  FutureWarning)\n",
      "/home/jupyterlab/conda/envs/python/lib/python3.6/site-packages/sklearn/linear_model/logistic.py:460: FutureWarning: Default multi_class will be changed to 'auto' in 0.22. Specify the multi_class option to silence this warning.\n",
      "  \"this warning.\", FutureWarning)\n"
     ]
    },
    {
     "name": "stdout",
     "output_type": "stream",
     "text": [
      "[Logistic regression algorithm] accuracy_score: 0.831.\n"
     ]
    }
   ],
   "source": [
    "lr = LogisticRegression(random_state=0)\n",
    "lr.fit(X_train,y_train)\n",
    "y_pred=lr.predict(X_test)\n",
    "\n",
    "# Get the accuracy score\n",
    "acc=accuracy_score(y_test, y_pred)\n",
    "\n",
    "# Append to the accuracy list\n",
    "accuracy_lst.append(acc)\n",
    "\n",
    "print(\"[Logistic regression algorithm] accuracy_score: {:.3f}.\".format(acc))"
   ]
  },
  {
   "cell_type": "code",
   "execution_count": 25,
   "metadata": {},
   "outputs": [
    {
     "name": "stdout",
     "output_type": "stream",
     "text": [
      "[K-Nearest Neighbors (KNN)] knn.score: 0.715.\n",
      "[K-Nearest Neighbors (KNN)] accuracy_score: 0.715.\n"
     ]
    }
   ],
   "source": [
    "# Create a k-NN classifier with 6 neighbors\n",
    "knn = KNeighborsClassifier(n_neighbors=6)\n",
    "\n",
    "# Fit the classifier to the data\n",
    "knn.fit(X_train,y_train)\n",
    "\n",
    "# Predict the labels for the training data X\n",
    "y_pred = knn.predict(X_test)\n",
    "\n",
    "# Get the accuracy score\n",
    "acc=accuracy_score(y_test, y_pred)\n",
    "\n",
    "# Append to the accuracy list\n",
    "accuracy_lst.append(acc)\n",
    "\n",
    "print('[K-Nearest Neighbors (KNN)] knn.score: {:.3f}.'.format(knn.score(X_test, y_test)))\n",
    "print('[K-Nearest Neighbors (KNN)] accuracy_score: {:.3f}.'.format(acc))"
   ]
  },
  {
   "cell_type": "code",
   "execution_count": 26,
   "metadata": {},
   "outputs": [
    {
     "name": "stdout",
     "output_type": "stream",
     "text": [
      "[Decision Tree -- entropy] accuracy_score: 0.829.\n",
      "[Decision Tree -- gini] accuracy_score: 0.847.\n"
     ]
    }
   ],
   "source": [
    "# Decision tree algorithm\n",
    "\n",
    "# Instantiate dt_entropy, set 'entropy' as the information criterion\n",
    "dt_entropy = DecisionTreeClassifier(max_depth=8, criterion='entropy', random_state=1)\n",
    "\n",
    "\n",
    "# Fit dt_entropy to the training set\n",
    "dt_entropy.fit(X_train, y_train)\n",
    "\n",
    "# Use dt_entropy to predict test set labels\n",
    "y_pred= dt_entropy.predict(X_test)\n",
    "\n",
    "# Evaluate accuracy_entropy\n",
    "accuracy_entropy = accuracy_score(y_test, y_pred)\n",
    "\n",
    "\n",
    "# Print accuracy_entropy\n",
    "print('[Decision Tree -- entropy] accuracy_score: {:.3f}.'.format(accuracy_entropy))\n",
    "\n",
    "\n",
    "\n",
    "# Instantiate dt_gini, set 'gini' as the information criterion\n",
    "dt_gini = DecisionTreeClassifier(max_depth=8, criterion='gini', random_state=1)\n",
    "\n",
    "\n",
    "# Fit dt_entropy to the training set\n",
    "dt_gini.fit(X_train, y_train)\n",
    "\n",
    "# Use dt_entropy to predict test set labels\n",
    "y_pred= dt_gini.predict(X_test)\n",
    "\n",
    "# Evaluate accuracy_entropy\n",
    "accuracy_gini = accuracy_score(y_test, y_pred)\n",
    "\n",
    "# Append to the accuracy list\n",
    "acc=accuracy_gini\n",
    "accuracy_lst.append(acc)\n",
    "\n",
    "# Print accuracy_gini\n",
    "print('[Decision Tree -- gini] accuracy_score: {:.3f}.'.format(accuracy_gini))"
   ]
  },
  {
   "cell_type": "code",
   "execution_count": 27,
   "metadata": {},
   "outputs": [
    {
     "name": "stdout",
     "output_type": "stream",
     "text": [
      "[Randon forest algorithm] accuracy_score: 0.883.\n"
     ]
    }
   ],
   "source": [
    "# Random Forest algorithm\n",
    "\n",
    "#Create a Gaussian Classifier\n",
    "clf=RandomForestClassifier(n_estimators=100)\n",
    "\n",
    "#Train the model using the training sets y_pred=clf.predict(X_test)\n",
    "clf.fit(X_train,y_train)\n",
    "\n",
    "y_pred=clf.predict(X_test)\n",
    "\n",
    "\n",
    "# Get the accuracy score\n",
    "acc=accuracy_score(y_test, y_pred)\n",
    "\n",
    "# Append to the accuracy list\n",
    "accuracy_lst.append(acc)\n",
    "\n",
    "\n",
    "# Model Accuracy, how often is the classifier correct?\n",
    "print(\"[Randon forest algorithm] accuracy_score: {:.3f}.\".format(acc))"
   ]
  },
  {
   "cell_type": "code",
   "execution_count": 29,
   "metadata": {},
   "outputs": [
    {
     "name": "stderr",
     "output_type": "stream",
     "text": [
      "No handles with labels found to put in legend.\n"
     ]
    },
    {
     "data": {
      "image/png": "[encoded data removed]",
      "text/plain": [
       "<Figure size 432x288 with 1 Axes>"
      ]
     },
     "metadata": {},
     "output_type": "display_data"
    }
   ],
   "source": [
    "feature_imp = pd.Series(clf.feature_importances_,index=X.columns).sort_values(ascending=False)\n",
    "\n",
    "# Creating a bar plot, displaying only the top k features\n",
    "k=10\n",
    "sns.barplot(x=feature_imp[:10], y=feature_imp.index[:k])\n",
    "# Add labels to your graph\n",
    "plt.xlabel('Feature Importance Score')\n",
    "plt.ylabel('Features')\n",
    "plt.title(\"Visualizing Important Features\")\n",
    "plt.legend()\n",
    "plt.show()"
   ]
  },
  {
   "cell_type": "code",
   "execution_count": 30,
   "metadata": {},
   "outputs": [
    {
     "data": {
      "text/plain": [
       "Start_Lng              0.108754\n",
       "Start_Lat              0.103368\n",
       "Side_R                 0.043198\n",
       "Hour                   0.024061\n",
       "City_Oakland           0.019580\n",
       "Time_Duration(min)     0.016758\n",
       "County_Sonoma          0.013778\n",
       "County_Solano          0.012250\n",
       "Traffic_Signal_True    0.011957\n",
       "Crossing               0.010525\n",
       "TMC                    0.009308\n",
       "Junction               0.008732\n",
       "Stop_True              0.008573\n",
       "City_Berkeley          0.007749\n",
       "City_Pleasanton        0.007434\n",
       "County_San Mateo       0.007152\n",
       "Distance(mi)           0.007069\n",
       "City_Fremont           0.006820\n",
       "County_Santa Clara     0.006543\n",
       "City_Fairfield         0.006480\n",
       "dtype: float64"
      ]
     },
     "execution_count": 30,
     "metadata": {},
     "output_type": "execute_result"
    }
   ],
   "source": [
    "# List top k important features\n",
    "k=20\n",
    "feature_imp.sort_values(ascending=False)[:k]"
   ]
  },
  {
   "cell_type": "code",
   "execution_count": 31,
   "metadata": {},
   "outputs": [
    {
     "name": "stdout",
     "output_type": "stream",
     "text": [
      "Start_Lng\n",
      "Start_Lat\n",
      "Side_R\n"
     ]
    }
   ],
   "source": [
    "# features that have an importance of more than 0.03\n",
    "sfm = SelectFromModel(clf, threshold=0.03)\n",
    "\n",
    "# Train the selector\n",
    "sfm.fit(X_train, y_train)\n",
    "\n",
    "feat_labels=X.columns\n",
    "\n",
    "# Print the names of the most important features\n",
    "for feature_list_index in sfm.get_support(indices=True):\n",
    "    print(feat_labels[feature_list_index])"
   ]
  },
  {
   "cell_type": "code",
   "execution_count": 32,
   "metadata": {},
   "outputs": [
    {
     "data": {
      "text/plain": [
       "RandomForestClassifier(bootstrap=True, class_weight=None, criterion='gini',\n",
       "            max_depth=None, max_features='auto', max_leaf_nodes=None,\n",
       "            min_impurity_decrease=0.0, min_impurity_split=None,\n",
       "            min_samples_leaf=1, min_samples_split=2,\n",
       "            min_weight_fraction_leaf=0.0, n_estimators=100, n_jobs=-1,\n",
       "            oob_score=False, random_state=0, verbose=0, warm_start=False)"
      ]
     },
     "execution_count": 32,
     "metadata": {},
     "output_type": "execute_result"
    }
   ],
   "source": [
    "# Transform the data to create a new dataset containing only the most important features\n",
    "# Note: We have to apply the transform to both the training X and test X data.\n",
    "X_important_train = sfm.transform(X_train)\n",
    "X_important_test = sfm.transform(X_test)\n",
    "\n",
    "# Create a new random forest classifier for the most important features\n",
    "clf_important = RandomForestClassifier(n_estimators=100, random_state=0, n_jobs=-1)\n",
    "\n",
    "# Train the new classifier on the new dataset containing the most important features\n",
    "clf_important.fit(X_important_train, y_train)"
   ]
  },
  {
   "cell_type": "code",
   "execution_count": 33,
   "metadata": {},
   "outputs": [
    {
     "name": "stdout",
     "output_type": "stream",
     "text": [
      "[Randon forest algorithm -- Full feature] accuracy_score: 0.883.\n",
      "[Randon forest algorithm -- Limited feature] accuracy_score: 0.924.\n"
     ]
    }
   ],
   "source": [
    "y_pred = clf.predict(X_test)\n",
    "\n",
    "# View The Accuracy Of Our Full Feature Model\n",
    "print('[Randon forest algorithm -- Full feature] accuracy_score: {:.3f}.'.format(accuracy_score(y_test, y_pred)))\n",
    "\n",
    "# Apply The Full Featured Classifier To The Test Data\n",
    "y_important_pred = clf_important.predict(X_important_test)\n",
    "\n",
    "# View The Accuracy Of Our Limited Feature Model\n",
    "print('[Randon forest algorithm -- Limited feature] accuracy_score: {:.3f}.'.format(accuracy_score(y_test, y_important_pred)))"
   ]
  },
  {
   "cell_type": "code",
   "execution_count": 34,
   "metadata": {},
   "outputs": [
    {
     "data": {
      "image/png": "[encoded data removed]",
      "text/plain": [
       "<Figure size 432x288 with 1 Axes>"
      ]
     },
     "metadata": {},
     "output_type": "display_data"
    }
   ],
   "source": [
    "\n",
    "# Generate a list of ticks for y-axis\n",
    "y_ticks=np.arange(len(algo_lst))\n",
    "\n",
    "# Combine the list of algorithms and list of accuracy scores into a dataframe, sort the value based on accuracy score\n",
    "df_acc=pd.DataFrame(list(zip(algo_lst, accuracy_lst)), columns=['Algorithm','Accuracy_Score']).sort_values(by=['Accuracy_Score'],ascending = True)\n",
    "\n",
    "# Export to a file\n",
    "df_acc.to_csv('./Accuracy_scores_algorithms_{}.csv'.format(state),index=False)\n",
    "\n",
    "# Make a plot\n",
    "ax=df_acc.plot.barh('Algorithm', 'Accuracy_Score', align='center',legend=False,color='0.5')\n",
    "\n",
    "# Add the data label on to the plot\n",
    "for i in ax.patches:\n",
    "    # get_width pulls left or right; get_y pushes up or down\n",
    "    ax.text(i.get_width()+0.02, i.get_y()+0.2, str(round(i.get_width(),2)), fontsize=10)\n",
    "\n",
    "# Set the limit, lables, ticks and title\n",
    "plt.xlim(0,1.05)\n",
    "plt.xlabel('Accuracy Score')\n",
    "plt.yticks(y_ticks, df_acc['Algorithm'], rotation=0)\n",
    "plt.title('[{}] Which algorithm is better?'.format(state))\n",
    "\n",
    "plt.show()"
   ]
  },
  {
   "cell_type": "code",
   "execution_count": null,
   "metadata": {},
   "outputs": [],
   "source": []
  }
 ],
 "metadata": {
  "kernelspec": {
   "display_name": "Python",
   "language": "python",
   "name": "conda-env-python-py"
  },
  "language_info": {
   "codemirror_mode": {
    "name": "ipython",
    "version": 3
   },
   "file_extension": ".py",
   "mimetype": "text/x-python",
   "name": "python",
   "nbconvert_exporter": "python",
   "pygments_lexer": "ipython3",
   "version": "3.6.11"
  }
 },
 "nbformat": 4,
 "nbformat_minor": 4
}
